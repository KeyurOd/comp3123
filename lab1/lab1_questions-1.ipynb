{
  "metadata": {
    "kernelspec": {
      "name": "python",
      "display_name": "Python (Pyodide)",
      "language": "python"
    },
    "language_info": {
      "codemirror_mode": {
        "name": "python",
        "version": 3
      },
      "file_extension": ".py",
      "mimetype": "text/x-python",
      "name": "python",
      "nbconvert_exporter": "python",
      "pygments_lexer": "ipython3",
      "version": "3.8"
    }
  },
  "nbformat_minor": 4,
  "nbformat": 4,
  "cells": [
    {
      "cell_type": "markdown",
      "source": "### String formatting\nYou have a few Python variables that describe your age, name, and favorite food:\n```\nname = \"Leonardo\"\nage = 27\nfavourite_food = \"Pizza\"\n```\nUsing these variables, create the following string to introduce yourself:\n```\n\"Hi! My name is Leonardo. I am 27 years old, and my favorite food is Pizza.\"\n```",
      "metadata": {}
    },
    {
      "cell_type": "code",
      "source": "name = \"Vatsal\"\nage = 21\nfavourite_food = \"Pizza\"",
      "metadata": {},
      "outputs": [],
      "execution_count": null
    },
    {
      "cell_type": "code",
      "source": "# your code here\nname = \"Vatsal\"\nage = 21\nfavourite_food = \"Pizza\"\nprint(f\"Hi! My name is {name}. I'm {age} years old, & my fav food is {favourite_food}\")",
      "metadata": {
        "trusted": true
      },
      "outputs": [
        {
          "name": "stdout",
          "text": "Hi! My name is Vatsal. I'm 21 years old, & my fav food is Pizza\n",
          "output_type": "stream"
        }
      ],
      "execution_count": 2
    },
    {
      "cell_type": "markdown",
      "source": "### Letter case or logic case?\nWrite a functiond which accepts a string as input to print \"Yes\" if the string is \"yes\" or \"YES\" or \"Yes\", otherwise print \"No\".\n\nExamples:\n```\nsay_yes_maybe(\"yes\") -> \"Yes\"\nsay_yes_maybe(\"YeS\") -> \"No\"\nsay_yes_maybe(\"maybe\") - > \"No\"\n\n```",
      "metadata": {}
    },
    {
      "cell_type": "code",
      "source": "def say_yes_maybe(s):\n    if s in (\"yes, Yes, YES\"):\n        return \"YES\"\n    else:\n        return \"NO\"\n\nprint(say_yes_maybe(\"yes\"))\nprint(say_yes_maybe(\"YeS\"))\nprint(say_yes_maybe(\"maybe\"))\n",
      "metadata": {
        "trusted": true
      },
      "outputs": [
        {
          "name": "stdout",
          "text": "YES\nNO\nNO\n",
          "output_type": "stream"
        }
      ],
      "execution_count": 20
    },
    {
      "cell_type": "markdown",
      "source": "### Filter Positive Numbers\n\nGiven a list of integers, write a Python script to create a new list that only contains the positive numbers from the original list.\n\nExample:\n```\nInput: [1, -2, 3, -4, 5, -6, 7, -8, 9, -10]\nOutput: [1, 3, 5, 7, 9]\n```",
      "metadata": {}
    },
    {
      "cell_type": "code",
      "source": "#you code here\ndef filter_pos_num(lst):\n    pos_num = [num for num in lst if num > 0]\n    return pos_num\n\n#Input = [-5, -55, 49, 23, 45]\n#Output = filter_pos_num(Input)\n#print(Output)\n\nprint(filter_pos_num([1, 2, 3, -4, 5]))\nprint(filter_pos_num([-1, -2, -3, -4, -5]))\nprint(filter_pos_num([1, 2, 3, -4, -5]))",
      "metadata": {
        "trusted": true
      },
      "outputs": [
        {
          "name": "stdout",
          "text": "[1, 2, 3, 5]\n[]\n[1, 2, 3]\n",
          "output_type": "stream"
        }
      ],
      "execution_count": 31
    },
    {
      "cell_type": "code",
      "source": "#tests\nassert filter_pos_num([1, 2, 3, 4, 5]) == [1, 2, 3, 4, 5]\nassert filter_pos_num([-1, -2, -3, -4, -5]) == []\nassert filter_pos_num([1, 2, 3, -4, -5]) == [1, 2, 3]",
      "metadata": {},
      "outputs": [],
      "execution_count": null
    },
    {
      "cell_type": "markdown",
      "source": "### Sums of positives and negatives\nGiven a list of numbers, print separately the sum of all positive numbers in the list and the sum of all negative numbers in the list. \n\nExample:\n```\nlst = [1,-2,3,5,-8]\n9 # is the sum of 1 + 3 + 5\n-10 # is the sum of -2 + -8\n```",
      "metadata": {}
    },
    {
      "cell_type": "code",
      "source": "#your code here\ndef sum_pos_and_neg(numbers):\n    pos_num = sum(num for num in numbers if num > 0)\n    neg_num = sum(num for num in numbers if num < 0)\n    \n    print(pos_num)\n    print(neg_num)\n\nrandom = [1, -27, 43, 0]\nsum_pos_and_neg(random)\n",
      "metadata": {
        "trusted": true
      },
      "outputs": [
        {
          "ename": "<class 'RecursionError'>",
          "evalue": "maximum recursion depth exceeded",
          "traceback": [
            "\u001b[0;31m---------------------------------------------------------------------------\u001b[0m",
            "\u001b[0;31mRecursionError\u001b[0m                            Traceback (most recent call last)",
            "Cell \u001b[0;32mIn[42], line 10\u001b[0m\n\u001b[1;32m      7\u001b[0m     \u001b[38;5;28mprint\u001b[39m(neg_num)\n\u001b[1;32m      9\u001b[0m random \u001b[38;5;241m=\u001b[39m [\u001b[38;5;241m1\u001b[39m, \u001b[38;5;241m-\u001b[39m\u001b[38;5;241m27\u001b[39m, \u001b[38;5;241m43\u001b[39m, \u001b[38;5;241m0\u001b[39m]\n\u001b[0;32m---> 10\u001b[0m \u001b[43msum_pos_and_neg\u001b[49m\u001b[43m(\u001b[49m\u001b[43mrandom\u001b[49m\u001b[43m)\u001b[49m\n",
            "Cell \u001b[0;32mIn[42], line 3\u001b[0m, in \u001b[0;36msum_pos_and_neg\u001b[0;34m(numbers)\u001b[0m\n\u001b[1;32m      2\u001b[0m \u001b[38;5;28;01mdef\u001b[39;00m \u001b[38;5;21msum_pos_and_neg\u001b[39m(numbers):\n\u001b[0;32m----> 3\u001b[0m     pos_num \u001b[38;5;241m=\u001b[39m \u001b[38;5;28;43msum\u001b[39;49m\u001b[43m(\u001b[49m\u001b[43mnum\u001b[49m\u001b[43m \u001b[49m\u001b[38;5;28;43;01mfor\u001b[39;49;00m\u001b[43m \u001b[49m\u001b[43mnum\u001b[49m\u001b[43m \u001b[49m\u001b[38;5;129;43;01min\u001b[39;49;00m\u001b[43m \u001b[49m\u001b[43mnumbers\u001b[49m\u001b[43m \u001b[49m\u001b[38;5;28;43;01mif\u001b[39;49;00m\u001b[43m \u001b[49m\u001b[43mnum\u001b[49m\u001b[43m \u001b[49m\u001b[38;5;241;43m>\u001b[39;49m\u001b[43m \u001b[49m\u001b[38;5;241;43m0\u001b[39;49m\u001b[43m)\u001b[49m\n\u001b[1;32m      4\u001b[0m     neg_num \u001b[38;5;241m=\u001b[39m \u001b[38;5;28msum\u001b[39m(num \u001b[38;5;28;01mfor\u001b[39;00m num \u001b[38;5;129;01min\u001b[39;00m numbers \u001b[38;5;28;01mif\u001b[39;00m num \u001b[38;5;241m<\u001b[39m \u001b[38;5;241m0\u001b[39m)\n\u001b[1;32m      6\u001b[0m     \u001b[38;5;28mprint\u001b[39m(pos_num)\n",
            "Cell \u001b[0;32mIn[39], line 3\u001b[0m, in \u001b[0;36msum\u001b[0;34m(numbers)\u001b[0m\n\u001b[1;32m      2\u001b[0m \u001b[38;5;28;01mdef\u001b[39;00m \u001b[38;5;21msum\u001b[39m(numbers):\n\u001b[0;32m----> 3\u001b[0m     pos_num \u001b[38;5;241m=\u001b[39m \u001b[38;5;28;43msum\u001b[39;49m\u001b[43m(\u001b[49m\u001b[43mnum\u001b[49m\u001b[43m \u001b[49m\u001b[38;5;28;43;01mfor\u001b[39;49;00m\u001b[43m \u001b[49m\u001b[43mnum\u001b[49m\u001b[43m \u001b[49m\u001b[38;5;129;43;01min\u001b[39;49;00m\u001b[43m \u001b[49m\u001b[43mnumbers\u001b[49m\u001b[43m \u001b[49m\u001b[38;5;28;43;01mif\u001b[39;49;00m\u001b[43m \u001b[49m\u001b[43mnum\u001b[49m\u001b[43m \u001b[49m\u001b[38;5;241;43m>\u001b[39;49m\u001b[43m \u001b[49m\u001b[38;5;241;43m0\u001b[39;49m\u001b[43m)\u001b[49m\n\u001b[1;32m      4\u001b[0m     neg_num \u001b[38;5;241m=\u001b[39m \u001b[38;5;28msum\u001b[39m(num \u001b[38;5;28;01mfor\u001b[39;00m num \u001b[38;5;129;01min\u001b[39;00m numbers \u001b[38;5;28;01mif\u001b[39;00m num \u001b[38;5;241m<\u001b[39m \u001b[38;5;241m0\u001b[39m)\n\u001b[1;32m      6\u001b[0m     \u001b[38;5;28mprint\u001b[39m(pos_num)\n",
            "Cell \u001b[0;32mIn[39], line 3\u001b[0m, in \u001b[0;36msum\u001b[0;34m(numbers)\u001b[0m\n\u001b[1;32m      2\u001b[0m \u001b[38;5;28;01mdef\u001b[39;00m \u001b[38;5;21msum\u001b[39m(numbers):\n\u001b[0;32m----> 3\u001b[0m     pos_num \u001b[38;5;241m=\u001b[39m \u001b[38;5;28;43msum\u001b[39;49m\u001b[43m(\u001b[49m\u001b[43mnum\u001b[49m\u001b[43m \u001b[49m\u001b[38;5;28;43;01mfor\u001b[39;49;00m\u001b[43m \u001b[49m\u001b[43mnum\u001b[49m\u001b[43m \u001b[49m\u001b[38;5;129;43;01min\u001b[39;49;00m\u001b[43m \u001b[49m\u001b[43mnumbers\u001b[49m\u001b[43m \u001b[49m\u001b[38;5;28;43;01mif\u001b[39;49;00m\u001b[43m \u001b[49m\u001b[43mnum\u001b[49m\u001b[43m \u001b[49m\u001b[38;5;241;43m>\u001b[39;49m\u001b[43m \u001b[49m\u001b[38;5;241;43m0\u001b[39;49m\u001b[43m)\u001b[49m\n\u001b[1;32m      4\u001b[0m     neg_num \u001b[38;5;241m=\u001b[39m \u001b[38;5;28msum\u001b[39m(num \u001b[38;5;28;01mfor\u001b[39;00m num \u001b[38;5;129;01min\u001b[39;00m numbers \u001b[38;5;28;01mif\u001b[39;00m num \u001b[38;5;241m<\u001b[39m \u001b[38;5;241m0\u001b[39m)\n\u001b[1;32m      6\u001b[0m     \u001b[38;5;28mprint\u001b[39m(pos_num)\n",
            "    \u001b[0;31m[... skipping similar frames: sum at line 3 (986 times)]\u001b[0m\n",
            "Cell \u001b[0;32mIn[39], line 3\u001b[0m, in \u001b[0;36msum\u001b[0;34m(numbers)\u001b[0m\n\u001b[1;32m      2\u001b[0m \u001b[38;5;28;01mdef\u001b[39;00m \u001b[38;5;21msum\u001b[39m(numbers):\n\u001b[0;32m----> 3\u001b[0m     pos_num \u001b[38;5;241m=\u001b[39m \u001b[38;5;28msum\u001b[39m\u001b[43m(\u001b[49m\u001b[43mnum\u001b[49m\u001b[43m \u001b[49m\u001b[38;5;28;43;01mfor\u001b[39;49;00m\u001b[43m \u001b[49m\u001b[43mnum\u001b[49m\u001b[43m \u001b[49m\u001b[38;5;129;43;01min\u001b[39;49;00m\u001b[43m \u001b[49m\u001b[43mnumbers\u001b[49m\u001b[43m \u001b[49m\u001b[38;5;28;43;01mif\u001b[39;49;00m\u001b[43m \u001b[49m\u001b[43mnum\u001b[49m\u001b[43m \u001b[49m\u001b[38;5;241;43m>\u001b[39;49m\u001b[43m \u001b[49m\u001b[38;5;241;43m0\u001b[39;49m\u001b[43m)\u001b[49m\n\u001b[1;32m      4\u001b[0m     neg_num \u001b[38;5;241m=\u001b[39m \u001b[38;5;28msum\u001b[39m(num \u001b[38;5;28;01mfor\u001b[39;00m num \u001b[38;5;129;01min\u001b[39;00m numbers \u001b[38;5;28;01mif\u001b[39;00m num \u001b[38;5;241m<\u001b[39m \u001b[38;5;241m0\u001b[39m)\n\u001b[1;32m      6\u001b[0m     \u001b[38;5;28mprint\u001b[39m(pos_num)\n",
            "\u001b[0;31mRecursionError\u001b[0m: maximum recursion depth exceeded"
          ],
          "output_type": "error"
        }
      ],
      "execution_count": 42
    },
    {
      "cell_type": "markdown",
      "source": "### Count Vowels and Consonants\n\nWrite a Python script that takes a string input and counts the number of vowels and consonants in the string. Start with this string `\"Python Programming is Fun!\"`.\n\nHint: \n- use input_string.lower() to convert the string to lowercase\n- for a given char use `char.isalpha()` to check if it is a letter\n- check if char is in `['a', 'e', 'i', 'o', 'u']` to check if it is a vowel.",
      "metadata": {}
    },
    {
      "cell_type": "code",
      "source": "VOWELS = [\"a\", \"e\", \"i\", \"o\", \"u\"]",
      "metadata": {},
      "outputs": [],
      "execution_count": null
    },
    {
      "cell_type": "code",
      "source": "#your code here",
      "metadata": {},
      "outputs": [],
      "execution_count": null
    },
    {
      "cell_type": "markdown",
      "source": "### Super vowels\nImplement `super_vowels` function which takes a string as an argument and returns a modified version of that string. In the return value of `super_vowels`, all vowels should be in upper case whereas all consonants should be in lower case. The vowels are listed in the `VOWELS` variable.",
      "metadata": {}
    },
    {
      "cell_type": "code",
      "source": "VOWELS = [\"a\", \"e\", \"i\", \"o\", \"u\"]",
      "metadata": {},
      "outputs": [],
      "execution_count": null
    },
    {
      "cell_type": "code",
      "source": "# Your implementation here\ndef super_vowels(s):\n    ...",
      "metadata": {},
      "outputs": [],
      "execution_count": 1
    },
    {
      "cell_type": "code",
      "source": "# tests\nassert super_vowels(\"hi wassup!\") == \"hI wAssUp!\"\nassert super_vowels(\"HOw aRE You?\") == \"hOw ArE yOU?\"",
      "metadata": {},
      "outputs": [],
      "execution_count": null
    },
    {
      "cell_type": "markdown",
      "source": "### Salad weight\nYou are given a recipe for a salad as a dictionary. The keys are the ingredient names and the values are the amounts given in grams. Calculate the total weight of the salad.",
      "metadata": {}
    },
    {
      "cell_type": "code",
      "source": "salad = {\n    \"cucumbers\": 100,\n    \"tomatoes\": 200,\n    \"radishes\": 50,\n    \"sour cream\": 200,\n}",
      "metadata": {},
      "outputs": [],
      "execution_count": 3
    },
    {
      "cell_type": "code",
      "source": "#you code here",
      "metadata": {},
      "outputs": [],
      "execution_count": 2
    },
    {
      "cell_type": "markdown",
      "source": "### String formatting with numbers - advanced\nYou can use the following code to print the value of Pi\n```\nimport math\nx = math.pi\nprint(x)\n```\nThe output is: 3.141592653589793\n\nWrite a function `short_pi()` that returns a string with only n digits of pi after the period\nExamples:\n```\nshort_pi(2) -> \"3.14\"\nshort_pi(5) -> \"3.14159\" \n```",
      "metadata": {}
    },
    {
      "cell_type": "code",
      "source": "# example\nimport math\nx = math.pi\nprint(x)",
      "metadata": {},
      "outputs": [
        {
          "name": "stdout",
          "output_type": "stream",
          "text": [
            "3.141592653589793\n"
          ]
        }
      ],
      "execution_count": 5
    },
    {
      "cell_type": "code",
      "source": "def short_pi(n):\n    ...",
      "metadata": {},
      "outputs": [],
      "execution_count": 6
    },
    {
      "cell_type": "code",
      "source": "# tests\nassert short_pi(2) == \"3.14\"\nassert short_pi(5) == \"3.14159\"",
      "metadata": {},
      "outputs": [
        {
          "ename": "AssertionError",
          "evalue": "",
          "output_type": "error",
          "traceback": [
            "\u001b[1;31m---------------------------------------------------------------------------\u001b[0m",
            "\u001b[1;31mAssertionError\u001b[0m                            Traceback (most recent call last)",
            "Cell \u001b[1;32mIn[7], line 2\u001b[0m\n\u001b[0;32m      1\u001b[0m \u001b[38;5;66;03m# tests\u001b[39;00m\n\u001b[1;32m----> 2\u001b[0m \u001b[38;5;28;01massert\u001b[39;00m short_pi(\u001b[38;5;241m2\u001b[39m) \u001b[38;5;241m==\u001b[39m \u001b[38;5;124m\"\u001b[39m\u001b[38;5;124m3.14\u001b[39m\u001b[38;5;124m\"\u001b[39m\n\u001b[0;32m      3\u001b[0m \u001b[38;5;28;01massert\u001b[39;00m short_pi(\u001b[38;5;241m5\u001b[39m) \u001b[38;5;241m==\u001b[39m \u001b[38;5;124m\"\u001b[39m\u001b[38;5;124m3.14159\u001b[39m\u001b[38;5;124m\"\u001b[39m\n",
            "\u001b[1;31mAssertionError\u001b[0m: "
          ]
        }
      ],
      "execution_count": 7
    },
    {
      "cell_type": "markdown",
      "source": "### Reverse a string - two pointer approach\nWrite a function that reverses a string. The input string is given as an array of characters s.\n\nYou must do this by modifying the input array in-place with O(1) extra memory.\n\n \nExample 1:\n```\nInput: s = [\"h\",\"e\",\"l\",\"l\",\"o\"]\nOutput: [\"o\",\"l\",\"l\",\"e\",\"h\"]\n```\n\nExample 2:\n```\nInput: s = [\"H\",\"a\",\"n\",\"n\",\"a\",\"h\"]\nOutput: [\"h\",\"a\",\"n\",\"n\",\"a\",\"H\"]\n```",
      "metadata": {}
    },
    {
      "cell_type": "code",
      "source": "",
      "metadata": {},
      "outputs": [],
      "execution_count": null
    }
  ]
}