{
  "metadata": {
    "kernelspec": {
      "name": "python",
      "display_name": "Python (Pyodide)",
      "language": "python"
    },
    "language_info": {
      "codemirror_mode": {
        "name": "python",
        "version": 3
      },
      "file_extension": ".py",
      "mimetype": "text/x-python",
      "name": "python",
      "nbconvert_exporter": "python",
      "pygments_lexer": "ipython3",
      "version": "3.8"
    }
  },
  "nbformat_minor": 4,
  "nbformat": 4,
  "cells": [
    {
      "cell_type": "markdown",
      "source": "### String formatting\nYou have a few Python variables that describe your age, name, and favorite food:\n```\nname = \"Leonardo\"\nage = 27\nfavourite_food = \"Pizza\"\n```\nUsing these variables, create the following string to introduce yourself:\n```\n\"Hi! My name is Leonardo. I am 27 years old, and my favorite food is Pizza.\"\n```",
      "metadata": {}
    },
    {
      "cell_type": "code",
      "source": "name = \"Leonardo\"\nage = 27\nfavourite_food = \"Pizza\"",
      "metadata": {
        "trusted": true
      },
      "outputs": [],
      "execution_count": 2
    },
    {
      "cell_type": "code",
      "source": "# your code here\nprint(f\"\"\"\n\"Hi! My name is {name}. I am {age} years olds, and my faviorite foos is {favourite_food}.\"\n\"\"\")",
      "metadata": {
        "trusted": true
      },
      "outputs": [
        {
          "name": "stdout",
          "text": "\n\"Hi! My name is Leonardo. I am 27 years olds, and my faviorite foos is Pizza.\"\n\n",
          "output_type": "stream"
        }
      ],
      "execution_count": 4
    },
    {
      "cell_type": "markdown",
      "source": "### Letter case or logic case?\nWrite a functiond which accepts a string as input to print \"Yes\" if the string is \"yes\" or \"YES\" or \"Yes\", otherwise print \"No\".\n\nExamples:\n```\nsay_yes_maybe(\"yes\") -> \"Yes\"\nsay_yes_maybe(\"YeS\") -> \"No\"\nsay_yes_maybe(\"maybe\") - > \"No\"\n\n```",
      "metadata": {}
    },
    {
      "cell_type": "code",
      "source": "def say_yes_maybe(s):\n    if s == \"yes\" or s == \"YES\" or s == \"Yes\":\n        return \"Yes\"\n    else:\n        return \"No\"\n\nprint(say_yes_maybe(\"yes\"))\nprint(say_yes_maybe(\"YeS\"))\nprint(say_yes_maybe(\"maybe\"))",
      "metadata": {
        "trusted": true
      },
      "outputs": [
        {
          "name": "stdout",
          "text": "Yes\nNo\nNo\n",
          "output_type": "stream"
        }
      ],
      "execution_count": 70
    },
    {
      "cell_type": "code",
      "source": "# tests\nassert say_yes_maybe(\"yes\") == \"Yes\"\nassert say_yes_maybe(\"YES\") == \"Yes\"\nassert say_yes_maybe(\"Yes\") == \"Yes\"\nassert say_yes_maybe(\"no\") == \"No\"\nassert say_yes_maybe(\"YeS\") == \"No\"",
      "metadata": {
        "trusted": true
      },
      "outputs": [],
      "execution_count": 71
    },
    {
      "cell_type": "markdown",
      "source": "### Filter Positive Numbers\n\nGiven a list of integers, write a Python script to create a new list that only contains the positive numbers from the original list.\n\nExample:\n```\nInput: [1, -2, 3, -4, 5, -6, 7, -8, 9, -10]\nOutput: [1, 3, 5, 7, 9]\n```",
      "metadata": {}
    },
    {
      "cell_type": "code",
      "source": "#you code here\ndef filter_pos_num(list):\n    return [num for num in list if num > 0]\n\nprint(filter_pos_num([1, 2, 3, 4, 5]))\nprint(filter_pos_num([-1, -2, -3, -4, -5]))\nprint(filter_pos_num([1, 2, 3, -4, -5]))",
      "metadata": {
        "trusted": true
      },
      "outputs": [
        {
          "name": "stdout",
          "text": "[1, 2, 3, 4, 5]\n[]\n[1, 2, 3]\n",
          "output_type": "stream"
        }
      ],
      "execution_count": 73
    },
    {
      "cell_type": "code",
      "source": "#tests\nassert filter_pos_num([1, 2, 3, 4, 5]) == [1, 2, 3, 4, 5]\nassert filter_pos_num([-1, -2, -3, -4, -5]) == []\nassert filter_pos_num([1, 2, 3, -4, -5]) == [1, 2, 3]",
      "metadata": {
        "trusted": true
      },
      "outputs": [],
      "execution_count": 74
    },
    {
      "cell_type": "markdown",
      "source": "### Sums of positives and negatives\nGiven a list of numbers, print separately the sum of all positive numbers in the list and the sum of all negative numbers in the list. \n\nExample:\n```\nlst = [1,-2,3,5,-8]\n9 # is the sum of 1 + 3 + 5\n-10 # is the sum of -2 + -8\n```",
      "metadata": {}
    },
    {
      "cell_type": "code",
      "source": "#your code here\ndef sum_pos_and_neg(numbers):\n    pos_sum = sum(num for num in numbers if num > 0)\n    neg_sum = sum(num for num in numbers if num < 0)\n    \n    print(pos_sum)\n    print(neg_sum)\n\nlst = [1,-2,3,5,-8]\nsum_pos_and_neg(lst)",
      "metadata": {
        "trusted": true
      },
      "outputs": [
        {
          "name": "stdout",
          "text": "9\n-10\n",
          "output_type": "stream"
        }
      ],
      "execution_count": 75
    },
    {
      "cell_type": "markdown",
      "source": "### Count Vowels and Consonants\n\nWrite a Python script that takes a string input and counts the number of vowels and consonants in the string. Start with this string `\"Python Programming is Fun!\"`.\n\nHint: \n- use input_string.lower() to convert the string to lowercase\n- for a given char use `char.isalpha()` to check if it is a letter\n- check if char is in `['a', 'e', 'i', 'o', 'u']` to check if it is a vowel.",
      "metadata": {}
    },
    {
      "cell_type": "code",
      "source": "VOWELS = [\"a\", \"e\", \"i\", \"o\", \"u\"]",
      "metadata": {
        "trusted": true
      },
      "outputs": [],
      "execution_count": 76
    },
    {
      "cell_type": "code",
      "source": "#your code here\ndef count_vowels_and_consonants(input_string):\n    # Convert the string to lowercase\n    input_string = input_string.lower()\n    \n    # Initialize counters\n    vowel_count = 0\n    consonant_count = 0\n    \n    # Iterate over each character in the string\n    for char in input_string:\n        if char.isalpha():  # Check if the character is a letter\n            if char in VOWELS:\n                vowel_count += 1\n            else:\n                consonant_count += 1\n    \n    return vowel_count, consonant_count\n\n# Example usage\ninput_string = \"Python Programming is Fun!\"\nvowels, consonants = count_vowels_and_consonants(input_string)\n\nprint(f\"Number of vowels: {vowels}\")\nprint(f\"Number of consonants: {consonants}\")\n",
      "metadata": {
        "trusted": true
      },
      "outputs": [
        {
          "name": "stdout",
          "text": "Number of vowels: 6\nNumber of consonants: 16\n",
          "output_type": "stream"
        }
      ],
      "execution_count": 77
    },
    {
      "cell_type": "markdown",
      "source": "### Super vowels\nImplement `super_vowels` function which takes a string as an argument and returns a modified version of that string. In the return value of `super_vowels`, all vowels should be in upper case whereas all consonants should be in lower case. The vowels are listed in the `VOWELS` variable.",
      "metadata": {}
    },
    {
      "cell_type": "code",
      "source": "VOWELS = [\"a\", \"e\", \"i\", \"o\", \"u\"]",
      "metadata": {
        "trusted": true
      },
      "outputs": [],
      "execution_count": 81
    },
    {
      "cell_type": "code",
      "source": "# Your implementation here\ndef super_vowels(s):\n    result = ''\n    \n    for char in s:\n        if char.lower() in VOWELS:  # Check if the character is a vowel\n            result += char.upper()  # Convert vowel to uppercase\n        elif char.isalpha():  # Check if it's a consonant\n            result += char.lower()  # Convert consonant to lowercase\n        else:\n            result += char  # Keep non-alphabetic characters unchanged\n    \n    return result\n\nprint(super_vowels(\"hi wassup!\"))\nprint(super_vowels(\"HOw aRE You?\"))",
      "metadata": {
        "trusted": true
      },
      "outputs": [
        {
          "name": "stdout",
          "text": "hI wAssUp!\nhOw ArE yOU?\n",
          "output_type": "stream"
        }
      ],
      "execution_count": 91
    },
    {
      "cell_type": "code",
      "source": "# tests\nassert super_vowels(\"hi wassup!\") \nassert super_vowels(\"HOw aRE You?\")",
      "metadata": {
        "trusted": true
      },
      "outputs": [],
      "execution_count": 92
    },
    {
      "cell_type": "markdown",
      "source": "### Salad weight\nYou are given a recipe for a salad as a dictionary. The keys are the ingredient names and the values are the amounts given in grams. Calculate the total weight of the salad.",
      "metadata": {}
    },
    {
      "cell_type": "code",
      "source": "salad = {\n    \"cucumbers\": 100,\n    \"tomatoes\": 200,\n    \"radishes\": 50,\n    \"sour cream\": 200,\n}",
      "metadata": {
        "trusted": true
      },
      "outputs": [],
      "execution_count": 97
    },
    {
      "cell_type": "code",
      "source": "#you code here\ndef weight_of_salad(s):\n    total_weight = sum(s.values())\n    return total_weight\n    \ntotal_weight = weight_of_salad(salad)\nprint(f\"Total weight of the salad: {total_weight} grams\")\n",
      "metadata": {
        "trusted": true
      },
      "outputs": [
        {
          "name": "stdout",
          "text": "Total weight of the salad: 550 grams\n",
          "output_type": "stream"
        }
      ],
      "execution_count": 102
    },
    {
      "cell_type": "markdown",
      "source": "### String formatting with numbers - advanced\nYou can use the following code to print the value of Pi\n```\nimport math\nx = math.pi\nprint(x)\n```\nThe output is: 3.141592653589793\n\nWrite a function `short_pi()` that returns a string with only n digits of pi after the period\nExamples:\n```\nshort_pi(2) -> \"3.14\"\nshort_pi(5) -> \"3.14159\" \n```",
      "metadata": {}
    },
    {
      "cell_type": "code",
      "source": "# example\nimport math\nx = math.pi\nprint(x)",
      "metadata": {
        "trusted": true
      },
      "outputs": [
        {
          "name": "stdout",
          "text": "3.141592653589793\n",
          "output_type": "stream"
        }
      ],
      "execution_count": 1
    },
    {
      "cell_type": "code",
      "source": "def short_pi(n):\n    pi_str = f\"{math.pi:.{n}f}\"\n    return pi_str\n\nprint(short_pi(2))\nprint(short_pi(5))",
      "metadata": {
        "trusted": true
      },
      "outputs": [
        {
          "name": "stdout",
          "text": "3.14\n3.14159\n",
          "output_type": "stream"
        }
      ],
      "execution_count": 5
    },
    {
      "cell_type": "code",
      "source": "# tests\nassert short_pi(2) == \"3.14\"\nassert short_pi(5) == \"3.14159\"",
      "metadata": {
        "trusted": true
      },
      "outputs": [],
      "execution_count": 6
    },
    {
      "cell_type": "markdown",
      "source": "### Reverse a string - two pointer approach\nWrite a function that reverses a string. The input string is given as an array of characters s.\n\nYou must do this by modifying the input array in-place with O(1) extra memory.\n\n \nExample 1:\n```\nInput: s = [\"h\",\"e\",\"l\",\"l\",\"o\"]\nOutput: [\"o\",\"l\",\"l\",\"e\",\"h\"]\n```\n\nExample 2:\n```\nInput: s = [\"H\",\"a\",\"n\",\"n\",\"a\",\"h\"]\nOutput: [\"h\",\"a\",\"n\",\"n\",\"a\",\"H\"]\n```",
      "metadata": {}
    },
    {
      "cell_type": "code",
      "source": "def reverseString(s: list[str]) -> None:\n    left, right = 0, len(s) - 1\n    \n    while left < right:\n        # Swap the characters \n        s[left], s[right] = s[right], s[left]\n        # Move the pointers towards the center\n        left += 1\n        right -= 1\n\ns = [\"H\",\"a\",\"n\",\"n\",\"a\",\"h\"]\n\nreverseString(s)\nprint(s)\n        \ns = [\"h\",\"e\",\"l\",\"l\",\"o\"]\nreverseString(s)\nprint(s)",
      "metadata": {
        "trusted": true
      },
      "outputs": [
        {
          "name": "stdout",
          "text": "['h', 'a', 'n', 'n', 'a', 'H']\n['o', 'l', 'l', 'e', 'h']\n",
          "output_type": "stream"
        }
      ],
      "execution_count": 6
    },
    {
      "cell_type": "code",
      "source": "",
      "metadata": {
        "trusted": true
      },
      "outputs": [],
      "execution_count": null
    }
  ]
}